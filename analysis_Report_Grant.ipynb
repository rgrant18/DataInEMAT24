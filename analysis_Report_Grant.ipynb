{
 "cells": [
  {
   "cell_type": "code",
   "execution_count": 23,
   "id": "31dc3423-94bc-481c-b828-0b8b63e979fb",
   "metadata": {},
   "outputs": [],
   "source": [
    "import urllib\n",
    "import requests\n",
    "import pandas as pd\n",
    "import json\n",
    "import base64\n",
    "import matplotlib.pyplot as plt\n",
    "import seaborn as sns\n",
    "from scipy import stats\n",
    "import statsmodels.formula.api as smf"
   ]
  },
  {
   "cell_type": "markdown",
   "id": "a7e57594-46de-4ecd-b0b7-aeee7ef159b0",
   "metadata": {},
   "source": [
    "# Analysis Report\n",
    "## Chris Grant"
   ]
  },
  {
   "cell_type": "markdown",
   "id": "ec69ec76-2373-4aa5-9ed6-10a9da6757f1",
   "metadata": {},
   "source": [
    "## For my analysis report, I will be choosing option #1. I am choosing to correct the mistakes on my API Data Report. After reviewing the comments you left, I felt it was the best option. "
   ]
  },
  {
   "cell_type": "markdown",
   "id": "e9ccbd48-809d-4065-ac8b-fad73dae2088",
   "metadata": {},
   "source": [
    "## The hypothesis I tested is that albums released during the summer months experience a higher average number of streams compared to tracks released in other seasons. Initially, my statistical hypothesis was not strongly supported by my theoretical. My new statistical hypothesis is that Spotify's API can help us prove that using the proper endpoints. Specifically, I will use the album and tracks endpoints to test my hypothesis. The variables I have been working with manipulate the data already retrieved from the Spotify API. For example, 'drake_album_response' stores the response from the Spotify API and will let the programmer know that the Spotify API is working correctly and has received a working input (a proper ID). "
   ]
  },
  {
   "cell_type": "markdown",
   "id": "27642442-2743-4f61-a47a-706fd7077f7d",
   "metadata": {},
   "source": [
    "## Below, I will begin loading in my initial report. The cell below is loading in our Spotify API into this Notebook and is giving us an access token. The API needs specific client keys which are loaded in as 'keys'."
   ]
  },
  {
   "cell_type": "code",
   "execution_count": 24,
   "id": "d8adf176-486a-4758-8bdf-863ca87f9774",
   "metadata": {},
   "outputs": [],
   "source": [
    "def get_session_token(SessionID, SessionKey):\n",
    "    url = 'https://accounts.spotify.com/api/token'\n",
    "    data = {'grant_type':'client_credentials'}\n",
    "    encoded_key = base64.b64encode(str(SessionID + \":\" + SessionKey).\\\n",
    "                                   encode(\"ascii\"))\n",
    "    header = {'Authorization': 'Basic {}'.format(encoded_key.decode(\"ascii\"))}\n",
    "    response = requests.post(url,\n",
    "                            data = data,\n",
    "                            headers = header)\n",
    "    print(response.status_code)\n",
    "    return response.json()['access_token']"
   ]
  },
  {
   "cell_type": "code",
   "execution_count": 25,
   "id": "24315bfa-8009-4691-98cd-9845449534b5",
   "metadata": {},
   "outputs": [],
   "source": [
    "keys = pd.read_csv(\"client.txt\")"
   ]
  },
  {
   "cell_type": "code",
   "execution_count": 26,
   "id": "0f0440e7-21ac-46a5-9490-6d6a56527c86",
   "metadata": {},
   "outputs": [
    {
     "name": "stdout",
     "output_type": "stream",
     "text": [
      "200\n"
     ]
    }
   ],
   "source": [
    "access_token = get_session_token(keys['Client_ID'].iloc[0], keys['Client_Secret'].iloc[0])"
   ]
  },
  {
   "cell_type": "markdown",
   "id": "81235d16-a08e-4651-b8bb-096c42ff6134",
   "metadata": {},
   "source": [
    "## Below, I am beginning to format the tracks and album endpoints with variables and then beginning to call the Spotify API and returning what it gives us as json."
   ]
  },
  {
   "cell_type": "code",
   "execution_count": 27,
   "id": "d1d5ca26-dc65-4c5c-a28e-66973da8fa6b",
   "metadata": {},
   "outputs": [],
   "source": [
    "ab_tracks_ep = 'https://api.spotify.com/v1/albums/{}/tracks'\n",
    "tracks_ep = 'https://api.spotify.com/v1/tracks'"
   ]
  },
  {
   "cell_type": "code",
   "execution_count": 28,
   "id": "9464a93d-2c8e-485f-bfe7-8ea04dcb9b31",
   "metadata": {},
   "outputs": [],
   "source": [
    "def api_call(endpoint_url, api_header): \n",
    "    response = requests.get(endpoint_url, headers = api_header)\n",
    "    print(response.status_code)\n",
    "    return response.json()"
   ]
  },
  {
   "cell_type": "markdown",
   "id": "82175238-2b6f-4cf4-ba62-96b39f29b2e2",
   "metadata": {},
   "source": [
    "## Below, I am creating a session header and formating it with the access token. I also am storing both Drake and Kendrick's album IDs as a variable so we can use it later. It is being checked with 'session_header' below it."
   ]
  },
  {
   "cell_type": "code",
   "execution_count": 29,
   "id": "df98adb7-2dc2-4f17-8a3a-cc30d94f0f64",
   "metadata": {},
   "outputs": [],
   "source": [
    "session_header = {'Authorization': 'Bearer {}'.format(access_token)}\n",
    "drake_album_id = '5MS3MvWHJ3lOZPLiMxzOU6'\n",
    "kendrick_album_id = '79ONNoS4M9tfIA1mYLBYVX'  "
   ]
  },
  {
   "cell_type": "code",
   "execution_count": 30,
   "id": "bf88b053-b120-4993-a8b2-e3a6fe937ea3",
   "metadata": {},
   "outputs": [
    {
     "name": "stdout",
     "output_type": "stream",
     "text": [
      "200\n",
      "200\n"
     ]
    }
   ],
   "source": [
    "drake_album_response = api_call(ab_tracks_ep.format(drake_album_id) , session_header)\n",
    "kendrick_album_response = api_call(ab_tracks_ep.format(kendrick_album_id) , session_header)"
   ]
  },
  {
   "cell_type": "markdown",
   "id": "9680d528-b95b-4227-8c0b-39fb629ad7cb",
   "metadata": {},
   "source": [
    "## Below, I am creating two dataframes using the data from the API reponse for both Drake and Kendrick's albums. With 'drake_track_ids', I am taking the track ID from the 'drake_album_df' dataframe and storing it as a string."
   ]
  },
  {
   "cell_type": "code",
   "execution_count": 31,
   "id": "4ad4c63b-24bd-46e8-9703-b7d8b468b204",
   "metadata": {},
   "outputs": [],
   "source": [
    "drake_album_df = pd.DataFrame(drake_album_response['items'])\n",
    "kendrick_album_df = pd.DataFrame(kendrick_album_response['items'])"
   ]
  },
  {
   "cell_type": "code",
   "execution_count": 32,
   "id": "878f0aa0-d05f-4aa7-8f27-dc3248960d11",
   "metadata": {},
   "outputs": [],
   "source": [
    "drake_track_ids= ','.join(drake_album_df['id'].to_list())\n",
    "kendrick_track_ids= ','.join(kendrick_album_df['id'].to_list())"
   ]
  },
  {
   "cell_type": "markdown",
   "id": "055f36d3-6034-4b9d-8bc8-43c1c6105560",
   "metadata": {},
   "source": [
    "## I am going to create the first visual for my report with Drake's dataframe below. It is going to have three columns and will sort their values by popularity, in descending order. \n",
    "\n",
    "## This is where I wrangled my data for my report. I collected my data using the Spotify API, and stored it within the dataframes below for visualization. I put the numbers from Drake and Kendrick's albums in a dataframe and attempted to clean it up as best as possible by only getting the dataframe to provide us with relevant info. The name of the track on the album, the href or link to the song, and how popular it is out of a score of 100. Manipulating the data using a dataframe allowed me to pick and choose what information would support my hypothesis as well as give me a better idea of what "
   ]
  },
  {
   "cell_type": "code",
   "execution_count": 33,
   "id": "cacfa441-1563-49c3-ab7e-3fab1534bfbf",
   "metadata": {},
   "outputs": [
    {
     "name": "stdout",
     "output_type": "stream",
     "text": [
      "200\n",
      "200\n"
     ]
    }
   ],
   "source": [
    "drake_track_info = api_call(tracks_ep + '?market=US&ids={}'.format(drake_track_ids), session_header)\n",
    "kendrick_track_info = api_call(tracks_ep + '?market=US&ids={}'.format(kendrick_track_ids), session_header)"
   ]
  },
  {
   "cell_type": "code",
   "execution_count": 34,
   "id": "431165e2-2d5d-4a84-8ec3-257e5835148b",
   "metadata": {},
   "outputs": [
    {
     "data": {
      "text/html": [
       "<div>\n",
       "<style scoped>\n",
       "    .dataframe tbody tr th:only-of-type {\n",
       "        vertical-align: middle;\n",
       "    }\n",
       "\n",
       "    .dataframe tbody tr th {\n",
       "        vertical-align: top;\n",
       "    }\n",
       "\n",
       "    .dataframe thead th {\n",
       "        text-align: right;\n",
       "    }\n",
       "</style>\n",
       "<table border=\"1\" class=\"dataframe\">\n",
       "  <thead>\n",
       "    <tr style=\"text-align: right;\">\n",
       "      <th></th>\n",
       "      <th>name</th>\n",
       "      <th>href</th>\n",
       "      <th>popularity</th>\n",
       "    </tr>\n",
       "  </thead>\n",
       "  <tbody>\n",
       "    <tr>\n",
       "      <th>0</th>\n",
       "      <td>Rich Flex</td>\n",
       "      <td>https://api.spotify.com/v1/tracks/1bDbXMyjaUIo...</td>\n",
       "      <td>75</td>\n",
       "    </tr>\n",
       "    <tr>\n",
       "      <th>5</th>\n",
       "      <td>Spin Bout U</td>\n",
       "      <td>https://api.spotify.com/v1/tracks/2ZL7WZcjuYKi...</td>\n",
       "      <td>74</td>\n",
       "    </tr>\n",
       "    <tr>\n",
       "      <th>6</th>\n",
       "      <td>Hours In Silence</td>\n",
       "      <td>https://api.spotify.com/v1/tracks/0sSRLXxknVTQ...</td>\n",
       "      <td>70</td>\n",
       "    </tr>\n",
       "    <tr>\n",
       "      <th>9</th>\n",
       "      <td>Pussy &amp; Millions (feat. Travis Scott)</td>\n",
       "      <td>https://api.spotify.com/v1/tracks/2KLwPaRDOB87...</td>\n",
       "      <td>70</td>\n",
       "    </tr>\n",
       "    <tr>\n",
       "      <th>2</th>\n",
       "      <td>On BS</td>\n",
       "      <td>https://api.spotify.com/v1/tracks/34tz0eDhGuFE...</td>\n",
       "      <td>69</td>\n",
       "    </tr>\n",
       "    <tr>\n",
       "      <th>4</th>\n",
       "      <td>Privileged Rappers</td>\n",
       "      <td>https://api.spotify.com/v1/tracks/7l2nxyx7IkBX...</td>\n",
       "      <td>68</td>\n",
       "    </tr>\n",
       "    <tr>\n",
       "      <th>8</th>\n",
       "      <td>Circo Loco</td>\n",
       "      <td>https://api.spotify.com/v1/tracks/7GeTsDIc5ykN...</td>\n",
       "      <td>67</td>\n",
       "    </tr>\n",
       "    <tr>\n",
       "      <th>1</th>\n",
       "      <td>Major Distribution</td>\n",
       "      <td>https://api.spotify.com/v1/tracks/46s57QULU02V...</td>\n",
       "      <td>65</td>\n",
       "    </tr>\n",
       "    <tr>\n",
       "      <th>10</th>\n",
       "      <td>Broke Boys</td>\n",
       "      <td>https://api.spotify.com/v1/tracks/45pUWUeEWGoS...</td>\n",
       "      <td>64</td>\n",
       "    </tr>\n",
       "    <tr>\n",
       "      <th>12</th>\n",
       "      <td>Jumbotron Shit Poppin</td>\n",
       "      <td>https://api.spotify.com/v1/tracks/2ZlABhxMMa43...</td>\n",
       "      <td>64</td>\n",
       "    </tr>\n",
       "    <tr>\n",
       "      <th>3</th>\n",
       "      <td>BackOutsideBoyz</td>\n",
       "      <td>https://api.spotify.com/v1/tracks/0wshkEEcJUQU...</td>\n",
       "      <td>62</td>\n",
       "    </tr>\n",
       "    <tr>\n",
       "      <th>13</th>\n",
       "      <td>More M’s</td>\n",
       "      <td>https://api.spotify.com/v1/tracks/29YW2xXlo6Pc...</td>\n",
       "      <td>61</td>\n",
       "    </tr>\n",
       "    <tr>\n",
       "      <th>15</th>\n",
       "      <td>I Guess It’s Fuck Me</td>\n",
       "      <td>https://api.spotify.com/v1/tracks/31bsuKDOzFGz...</td>\n",
       "      <td>61</td>\n",
       "    </tr>\n",
       "    <tr>\n",
       "      <th>7</th>\n",
       "      <td>Treacherous Twins</td>\n",
       "      <td>https://api.spotify.com/v1/tracks/4Flfb4fGscN9...</td>\n",
       "      <td>60</td>\n",
       "    </tr>\n",
       "    <tr>\n",
       "      <th>11</th>\n",
       "      <td>Middle of the Ocean</td>\n",
       "      <td>https://api.spotify.com/v1/tracks/410TZrK18uRj...</td>\n",
       "      <td>60</td>\n",
       "    </tr>\n",
       "    <tr>\n",
       "      <th>14</th>\n",
       "      <td>3AM on Glenwood</td>\n",
       "      <td>https://api.spotify.com/v1/tracks/1MTXYvJ9TSqg...</td>\n",
       "      <td>54</td>\n",
       "    </tr>\n",
       "  </tbody>\n",
       "</table>\n",
       "</div>"
      ],
      "text/plain": [
       "                                     name  \\\n",
       "0                               Rich Flex   \n",
       "5                             Spin Bout U   \n",
       "6                        Hours In Silence   \n",
       "9   Pussy & Millions (feat. Travis Scott)   \n",
       "2                                   On BS   \n",
       "4                      Privileged Rappers   \n",
       "8                              Circo Loco   \n",
       "1                      Major Distribution   \n",
       "10                             Broke Boys   \n",
       "12                  Jumbotron Shit Poppin   \n",
       "3                         BackOutsideBoyz   \n",
       "13                               More M’s   \n",
       "15                   I Guess It’s Fuck Me   \n",
       "7                       Treacherous Twins   \n",
       "11                    Middle of the Ocean   \n",
       "14                        3AM on Glenwood   \n",
       "\n",
       "                                                 href  popularity  \n",
       "0   https://api.spotify.com/v1/tracks/1bDbXMyjaUIo...          75  \n",
       "5   https://api.spotify.com/v1/tracks/2ZL7WZcjuYKi...          74  \n",
       "6   https://api.spotify.com/v1/tracks/0sSRLXxknVTQ...          70  \n",
       "9   https://api.spotify.com/v1/tracks/2KLwPaRDOB87...          70  \n",
       "2   https://api.spotify.com/v1/tracks/34tz0eDhGuFE...          69  \n",
       "4   https://api.spotify.com/v1/tracks/7l2nxyx7IkBX...          68  \n",
       "8   https://api.spotify.com/v1/tracks/7GeTsDIc5ykN...          67  \n",
       "1   https://api.spotify.com/v1/tracks/46s57QULU02V...          65  \n",
       "10  https://api.spotify.com/v1/tracks/45pUWUeEWGoS...          64  \n",
       "12  https://api.spotify.com/v1/tracks/2ZlABhxMMa43...          64  \n",
       "3   https://api.spotify.com/v1/tracks/0wshkEEcJUQU...          62  \n",
       "13  https://api.spotify.com/v1/tracks/29YW2xXlo6Pc...          61  \n",
       "15  https://api.spotify.com/v1/tracks/31bsuKDOzFGz...          61  \n",
       "7   https://api.spotify.com/v1/tracks/4Flfb4fGscN9...          60  \n",
       "11  https://api.spotify.com/v1/tracks/410TZrK18uRj...          60  \n",
       "14  https://api.spotify.com/v1/tracks/1MTXYvJ9TSqg...          54  "
      ]
     },
     "execution_count": 34,
     "metadata": {},
     "output_type": "execute_result"
    }
   ],
   "source": [
    "drake_tracks_df = pd.DataFrame(drake_track_info['tracks'])\n",
    "drake_data = drake_tracks_df[[\"name\", \"href\", \"popularity\"]]\n",
    "drakes_data_df = drake_tracks_df[[\"name\", \"href\", \"popularity\"]].sort_values(by=[\"popularity\"], ascending=[False])\n",
    "drakes_data_df"
   ]
  },
  {
   "cell_type": "markdown",
   "id": "5d876751-e347-447f-a09d-2bf5ac25531b",
   "metadata": {},
   "source": [
    "## I am going to do a different visualization of my hypotheses for both Kendrick and Drake's albums using matplotlib. I will be creating a scatterplot and filling it with the same data I wrangled from my initial report. I feel this scatter plot positively represents both my statistical and theoretical thesis, but is unable to go much further than the surface of those two hypotheses due to data limitations."
   ]
  },
  {
   "cell_type": "code",
   "execution_count": 35,
   "id": "8f522477-9c73-46d7-8cc1-b5adaa2efcf3",
   "metadata": {},
   "outputs": [
    {
     "data": {
      "image/png": "[encoded data removed]",
      "text/plain": [
       "<Figure size 1000x600 with 1 Axes>"
      ]
     },
     "metadata": {},
     "output_type": "display_data"
    }
   ],
   "source": [
    "# Kendrick's data is being loaded in first\n",
    "kendrick_tracks_df = pd.DataFrame(kendrick_track_info['tracks'])\n",
    "kendrick_data = kendrick_tracks_df[[\"name\", \"href\", \"popularity\"]]\n",
    "kendricks_data_df = kendrick_tracks_df[[\"name\", \"href\", \"popularity\"]].sort_values(by=[\"popularity\"], ascending=[False])\n",
    "kendricks_data_df\n",
    "\n",
    "# Drake's data is being loaded below\n",
    "drake_tracks_df = pd.DataFrame(drake_track_info['tracks'])\n",
    "drake_data = drake_tracks_df[[\"name\", \"href\", \"popularity\"]]\n",
    "drakes_data_df = drake_tracks_df[[\"name\", \"href\", \"popularity\"]].sort_values(by=[\"popularity\"], ascending=[False])\n",
    "drakes_data_df\n",
    "\n",
    "# Scatter plot to better visualize popularity vs. track index. Much more readable than a bar chart for example.\n",
    "plt.figure(figsize=(10,6))\n",
    "plt.scatter(kendricks_data_df.index, kendricks_data_df['popularity'], color='green')\n",
    "plt.scatter(drakes_data_df.index, drakes_data_df['popularity'], color='red')\n",
    "\n",
    "# Adding labels and title\n",
    "plt.ylabel('Popularity', fontsize=12)\n",
    "plt.title('Her Loss versus Mr. Morale & The Big Steppers' , fontsize=14)\n",
    "\n",
    "# Shows plot\n",
    "plt.tight_layout()\n",
    "plt.show()"
   ]
  },
  {
   "cell_type": "markdown",
   "id": "61c7e7b3-98aa-4c8c-8e40-b4addcec151a",
   "metadata": {},
   "source": [
    "## After reviewing my initial findings under a new light, I have found that the limitations found in my data could represent a few things. The data limitations I ended up finding after reviewing this report again would be falling on the Spotify API, Spotify itself and my hypothesis itself. The main limitations from the Spotify API include a lack of user data from the Spotify API. These demographics could be helpful because we could narrow down who and when people would be listening to a specific album, and this could help prove my hypothesis. This is a large privacy issue for Spotify's paying users, so it makes sense why they are not available. Another limitation coming from Spotify's API is that the data it is giving users is current data. This makes it more difficult to accurately quantify things like a song's popularity score because a song will go down in popularity over time. I found I also have concluded I did not have too strong of hypotheses for the initial report. The holes in my hypothesis I found were that geographical bias plays a part in the accuracy of my findings. In the Northern Hemisphere, our summer is at a completely different time than the Southern Hemisphere. Additionally, the popularity metric from Spotify changes over time and does not give an exact number of streams. Lastly, choosing arguably the two most popular artists from a genre may not have made it easy to compare a lot of the two artists' album performances.\n",
    "\n",
    "## Overall, I feel as if this hypothesis could have been represented more strongly with a different API, or a different dataset. I would take a deeper dive into the limitations of my dataset and also the datasets I choose to compare. For the next steps on this specific report, I would think to try to recreate these visualizations with different datasets. I would choose two different artists from different genres and lower popularity in an effort to yield a different result on my hypothesis."
   ]
  }
 ],
 "metadata": {
  "kernelspec": {
   "display_name": "Python 3 (ipykernel)",
   "language": "python",
   "name": "python3"
  },
  "language_info": {
   "codemirror_mode": {
    "name": "ipython",
    "version": 3
   },
   "file_extension": ".py",
   "mimetype": "text/x-python",
   "name": "python",
   "nbconvert_exporter": "python",
   "pygments_lexer": "ipython3",
   "version": "3.12.0"
  }
 },
 "nbformat": 4,
 "nbformat_minor": 5
}
