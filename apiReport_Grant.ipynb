{
 "cells": [
  {
   "cell_type": "code",
   "execution_count": 1,
   "id": "328d3600-1e6e-412d-821b-545668970cae",
   "metadata": {},
   "outputs": [],
   "source": [
    "import urllib\n",
    "import requests\n",
    "import pandas as pd\n",
    "import json\n",
    "import base64"
   ]
  },
  {
   "cell_type": "markdown",
   "id": "56ca4c5c-2b01-422d-9903-3fa2510da9eb",
   "metadata": {},
   "source": [
    "# Analyzing the Impact of Release Date on Streaming Success\n",
    "## Chris Grant"
   ]
  },
  {
   "cell_type": "markdown",
   "id": "d895e333-12e0-4ced-91ac-5df7e3db8375",
   "metadata": {},
   "source": [
    "The hypothesis I will be testing is that albums released during the summer months experience a higher average number of streams compared to tracks released in other seasons. My theoretical application of this hypothesis would be that people are typically out doing more activities during the summer. People are out of school and have a lot more free time. Additionally, pleasant weather can lead to things like parties, where you'd be playing music. The statistical application of my hypothesis would be that artists and labels strategically pick what time of the year they release an album. I theorize that at times labels may want their artist to release an album during an off-season. This would be in effort to have less competition at the time the album releases because other labels may be thinking similarly."
   ]
  },
  {
   "cell_type": "markdown",
   "id": "3ed0a673-927f-49ac-abb0-2929e54e932e",
   "metadata": {},
   "source": [
    "The two endpoints I am testing my hypothesis are Drake's album \"Her Loss\" and Kendrick Lamar's \"Mr. Morale & The Big Steppers\". I am chosing these two to test my hypothesis because both albums released in 2022. \"Mr. Morale & The Big Steppers\" released on May 13th, 2022, and \"Her Loss\" released on November 4th, 2022. I also chose these two artists because they are from the same genre and they have been rather equal in popularity for years. This should strengthen my hypothesis to make it more reliable. It could be unreliable because of bias. Some people viewing the data may prefer one artist over an other or view their success a different way. I do not believe there will be any limitations testing this hypothesis."
   ]
  },
  {
   "cell_type": "code",
   "execution_count": 2,
   "id": "04f5d31d-6e27-4527-a7e5-6880ee296ec6",
   "metadata": {},
   "outputs": [],
   "source": [
    "def get_session_token(SessionID, SessionKey):\n",
    "    url = 'https://accounts.spotify.com/api/token'\n",
    "    data = {'grant_type':'client_credentials'}\n",
    "    encoded_key = base64.b64encode(str(SessionID + \":\" + SessionKey).\\\n",
    "                                   encode(\"ascii\"))\n",
    "    header = {'Authorization': 'Basic {}'.format(encoded_key.decode(\"ascii\"))}\n",
    "    response = requests.post(url,\n",
    "                            data = data,\n",
    "                            headers = header)\n",
    "    print(response.status_code)\n",
    "    return response.json()['access_token']"
   ]
  },
  {
   "cell_type": "code",
   "execution_count": 3,
   "id": "99aa2f74-0a49-49ab-9dfe-1ce7e178b92f",
   "metadata": {},
   "outputs": [],
   "source": [
    "keys = pd.read_csv(\"client.txt\")"
   ]
  },
  {
   "cell_type": "code",
   "execution_count": 4,
   "id": "cbfc3009-1b35-4f29-8485-4aba19c1bdb4",
   "metadata": {},
   "outputs": [
    {
     "name": "stdout",
     "output_type": "stream",
     "text": [
      "200\n"
     ]
    }
   ],
   "source": [
    "access_token = get_session_token(keys['Client_ID'].iloc[0], keys['Client_Secret'].iloc[0])"
   ]
  },
  {
   "cell_type": "code",
   "execution_count": 5,
   "id": "cb32c872-a5b0-42af-bd2b-7943d3879f5d",
   "metadata": {},
   "outputs": [],
   "source": [
    "ab_tracks_ep = 'https://api.spotify.com/v1/albums/{}/tracks'\n",
    "tracks_ep = 'https://api.spotify.com/v1/tracks'"
   ]
  },
  {
   "cell_type": "code",
   "execution_count": 6,
   "id": "ccb1d2a1-b0f6-425f-b80e-ee7df8b47193",
   "metadata": {},
   "outputs": [],
   "source": [
    "def api_call(endpoint_url, api_header): \n",
    "    response = requests.get(endpoint_url, headers = api_header)\n",
    "    print(response.status_code)\n",
    "    return response.json()"
   ]
  },
  {
   "cell_type": "code",
   "execution_count": 7,
   "id": "d76e0eb5-d4f4-410e-ae40-15e581517cbd",
   "metadata": {},
   "outputs": [],
   "source": [
    "session_header = {'Authorization': 'Bearer {}'.format(access_token)}\n",
    "drake_album_id = '5MS3MvWHJ3lOZPLiMxzOU6'\n",
    "kendrick_album_id = '79ONNoS4M9tfIA1mYLBYVX'  "
   ]
  },
  {
   "cell_type": "code",
   "execution_count": 8,
   "id": "a50402c0-11e5-4057-a5ad-76e1d09c2901",
   "metadata": {},
   "outputs": [
    {
     "name": "stdout",
     "output_type": "stream",
     "text": [
      "200\n",
      "200\n"
     ]
    }
   ],
   "source": [
    "drake_album_response = api_call(ab_tracks_ep.format(drake_album_id) , session_header)\n",
    "kendrick_album_response = api_call(ab_tracks_ep.format(kendrick_album_id) , session_header)"
   ]
  },
  {
   "cell_type": "code",
   "execution_count": 9,
   "id": "bb1c8b3a-ad8b-4b3e-ac31-4151c35b41b8",
   "metadata": {},
   "outputs": [],
   "source": [
    "drake_album_df = pd.DataFrame(drake_album_response['items'])\n",
    "kendrick_album_df = pd.DataFrame(kendrick_album_response['items'])"
   ]
  },
  {
   "cell_type": "code",
   "execution_count": 10,
   "id": "9c9f93eb-b324-482a-9607-3718ba4210e3",
   "metadata": {},
   "outputs": [],
   "source": [
    "drake_track_ids= ','.join(drake_album_df['id'].to_list())\n",
    "kendrick_track_ids= ','.join(kendrick_album_df['id'].to_list())"
   ]
  },
  {
   "cell_type": "code",
   "execution_count": 11,
   "id": "0200ff0d-eabb-4ca7-bbec-41c8b3a34b7e",
   "metadata": {},
   "outputs": [
    {
     "name": "stdout",
     "output_type": "stream",
     "text": [
      "200\n",
      "200\n"
     ]
    }
   ],
   "source": [
    "drake_track_info = api_call(tracks_ep + '?market=US&ids={}'.format(drake_track_ids), session_header)\n",
    "kendrick_track_info = api_call(tracks_ep + '?market=US&ids={}'.format(kendrick_track_ids), session_header)"
   ]
  },
  {
   "cell_type": "markdown",
   "id": "4096d036-1e4b-4646-9d1c-f379d37df519",
   "metadata": {},
   "source": [
    "#\n",
    "The chart below shows information on Drake's album \"Her Loss\". Specifically, I chose to focus on the names of the tracks on the album, the href or link to the track, how popular it is, and the artists who perform on the song. I decided to sort the chart so you would see the most popular track first in order to truly test my hypothesis. In this case, the first song on the album, Rich Flex, is the most popular song from the album. Drake's album released in November, 2022.\n",
    "\n",
    "#"
   ]
  },
  {
   "cell_type": "code",
   "execution_count": 30,
   "id": "96d783b7-4037-4775-8198-3f8c92bf331f",
   "metadata": {},
   "outputs": [
    {
     "data": {
      "text/html": [
       "<div>\n",
       "<style scoped>\n",
       "    .dataframe tbody tr th:only-of-type {\n",
       "        vertical-align: middle;\n",
       "    }\n",
       "\n",
       "    .dataframe tbody tr th {\n",
       "        vertical-align: top;\n",
       "    }\n",
       "\n",
       "    .dataframe thead th {\n",
       "        text-align: right;\n",
       "    }\n",
       "</style>\n",
       "<table border=\"1\" class=\"dataframe\">\n",
       "  <thead>\n",
       "    <tr style=\"text-align: right;\">\n",
       "      <th></th>\n",
       "      <th>name</th>\n",
       "      <th>href</th>\n",
       "      <th>popularity</th>\n",
       "    </tr>\n",
       "  </thead>\n",
       "  <tbody>\n",
       "    <tr>\n",
       "      <th>0</th>\n",
       "      <td>Rich Flex</td>\n",
       "      <td>https://api.spotify.com/v1/tracks/1bDbXMyjaUIo...</td>\n",
       "      <td>75</td>\n",
       "    </tr>\n",
       "    <tr>\n",
       "      <th>5</th>\n",
       "      <td>Spin Bout U</td>\n",
       "      <td>https://api.spotify.com/v1/tracks/2ZL7WZcjuYKi...</td>\n",
       "      <td>74</td>\n",
       "    </tr>\n",
       "    <tr>\n",
       "      <th>6</th>\n",
       "      <td>Hours In Silence</td>\n",
       "      <td>https://api.spotify.com/v1/tracks/0sSRLXxknVTQ...</td>\n",
       "      <td>70</td>\n",
       "    </tr>\n",
       "    <tr>\n",
       "      <th>9</th>\n",
       "      <td>Pussy &amp; Millions (feat. Travis Scott)</td>\n",
       "      <td>https://api.spotify.com/v1/tracks/2KLwPaRDOB87...</td>\n",
       "      <td>70</td>\n",
       "    </tr>\n",
       "    <tr>\n",
       "      <th>2</th>\n",
       "      <td>On BS</td>\n",
       "      <td>https://api.spotify.com/v1/tracks/34tz0eDhGuFE...</td>\n",
       "      <td>69</td>\n",
       "    </tr>\n",
       "    <tr>\n",
       "      <th>4</th>\n",
       "      <td>Privileged Rappers</td>\n",
       "      <td>https://api.spotify.com/v1/tracks/7l2nxyx7IkBX...</td>\n",
       "      <td>68</td>\n",
       "    </tr>\n",
       "    <tr>\n",
       "      <th>8</th>\n",
       "      <td>Circo Loco</td>\n",
       "      <td>https://api.spotify.com/v1/tracks/7GeTsDIc5ykN...</td>\n",
       "      <td>67</td>\n",
       "    </tr>\n",
       "    <tr>\n",
       "      <th>1</th>\n",
       "      <td>Major Distribution</td>\n",
       "      <td>https://api.spotify.com/v1/tracks/46s57QULU02V...</td>\n",
       "      <td>65</td>\n",
       "    </tr>\n",
       "    <tr>\n",
       "      <th>12</th>\n",
       "      <td>Jumbotron Shit Poppin</td>\n",
       "      <td>https://api.spotify.com/v1/tracks/2ZlABhxMMa43...</td>\n",
       "      <td>65</td>\n",
       "    </tr>\n",
       "    <tr>\n",
       "      <th>10</th>\n",
       "      <td>Broke Boys</td>\n",
       "      <td>https://api.spotify.com/v1/tracks/45pUWUeEWGoS...</td>\n",
       "      <td>64</td>\n",
       "    </tr>\n",
       "    <tr>\n",
       "      <th>3</th>\n",
       "      <td>BackOutsideBoyz</td>\n",
       "      <td>https://api.spotify.com/v1/tracks/0wshkEEcJUQU...</td>\n",
       "      <td>62</td>\n",
       "    </tr>\n",
       "    <tr>\n",
       "      <th>13</th>\n",
       "      <td>More M’s</td>\n",
       "      <td>https://api.spotify.com/v1/tracks/29YW2xXlo6Pc...</td>\n",
       "      <td>62</td>\n",
       "    </tr>\n",
       "    <tr>\n",
       "      <th>15</th>\n",
       "      <td>I Guess It’s Fuck Me</td>\n",
       "      <td>https://api.spotify.com/v1/tracks/31bsuKDOzFGz...</td>\n",
       "      <td>61</td>\n",
       "    </tr>\n",
       "    <tr>\n",
       "      <th>7</th>\n",
       "      <td>Treacherous Twins</td>\n",
       "      <td>https://api.spotify.com/v1/tracks/4Flfb4fGscN9...</td>\n",
       "      <td>60</td>\n",
       "    </tr>\n",
       "    <tr>\n",
       "      <th>11</th>\n",
       "      <td>Middle of the Ocean</td>\n",
       "      <td>https://api.spotify.com/v1/tracks/410TZrK18uRj...</td>\n",
       "      <td>60</td>\n",
       "    </tr>\n",
       "    <tr>\n",
       "      <th>14</th>\n",
       "      <td>3AM on Glenwood</td>\n",
       "      <td>https://api.spotify.com/v1/tracks/1MTXYvJ9TSqg...</td>\n",
       "      <td>54</td>\n",
       "    </tr>\n",
       "  </tbody>\n",
       "</table>\n",
       "</div>"
      ],
      "text/plain": [
       "                                     name  \\\n",
       "0                               Rich Flex   \n",
       "5                             Spin Bout U   \n",
       "6                        Hours In Silence   \n",
       "9   Pussy & Millions (feat. Travis Scott)   \n",
       "2                                   On BS   \n",
       "4                      Privileged Rappers   \n",
       "8                              Circo Loco   \n",
       "1                      Major Distribution   \n",
       "12                  Jumbotron Shit Poppin   \n",
       "10                             Broke Boys   \n",
       "3                         BackOutsideBoyz   \n",
       "13                               More M’s   \n",
       "15                   I Guess It’s Fuck Me   \n",
       "7                       Treacherous Twins   \n",
       "11                    Middle of the Ocean   \n",
       "14                        3AM on Glenwood   \n",
       "\n",
       "                                                 href  popularity  \n",
       "0   https://api.spotify.com/v1/tracks/1bDbXMyjaUIo...          75  \n",
       "5   https://api.spotify.com/v1/tracks/2ZL7WZcjuYKi...          74  \n",
       "6   https://api.spotify.com/v1/tracks/0sSRLXxknVTQ...          70  \n",
       "9   https://api.spotify.com/v1/tracks/2KLwPaRDOB87...          70  \n",
       "2   https://api.spotify.com/v1/tracks/34tz0eDhGuFE...          69  \n",
       "4   https://api.spotify.com/v1/tracks/7l2nxyx7IkBX...          68  \n",
       "8   https://api.spotify.com/v1/tracks/7GeTsDIc5ykN...          67  \n",
       "1   https://api.spotify.com/v1/tracks/46s57QULU02V...          65  \n",
       "12  https://api.spotify.com/v1/tracks/2ZlABhxMMa43...          65  \n",
       "10  https://api.spotify.com/v1/tracks/45pUWUeEWGoS...          64  \n",
       "3   https://api.spotify.com/v1/tracks/0wshkEEcJUQU...          62  \n",
       "13  https://api.spotify.com/v1/tracks/29YW2xXlo6Pc...          62  \n",
       "15  https://api.spotify.com/v1/tracks/31bsuKDOzFGz...          61  \n",
       "7   https://api.spotify.com/v1/tracks/4Flfb4fGscN9...          60  \n",
       "11  https://api.spotify.com/v1/tracks/410TZrK18uRj...          60  \n",
       "14  https://api.spotify.com/v1/tracks/1MTXYvJ9TSqg...          54  "
      ]
     },
     "execution_count": 30,
     "metadata": {},
     "output_type": "execute_result"
    }
   ],
   "source": [
    "drake_tracks_df = pd.DataFrame(drake_track_info['tracks'])\n",
    "drake_data = drake_tracks_df[[\"name\", \"href\", \"popularity\"]]\n",
    "drakes_data_df = drake_tracks_df[[\"name\", \"href\", \"popularity\"]].sort_values(by=[\"popularity\"], ascending=[False])\n",
    "drakes_data_df"
   ]
  },
  {
   "cell_type": "markdown",
   "id": "a87aafa8-4d45-4f7d-bb16-805c54e9cbc0",
   "metadata": {},
   "source": [
    "#\n",
    "Below is Kendrick's chart to further push my hypothesis. Kendrick's album released in May, 2022.\n",
    "\n",
    "#"
   ]
  },
  {
   "cell_type": "code",
   "execution_count": 27,
   "id": "59cfa326-36f8-43af-be9a-dce724ff7067",
   "metadata": {},
   "outputs": [
    {
     "data": {
      "text/html": [
       "<div>\n",
       "<style scoped>\n",
       "    .dataframe tbody tr th:only-of-type {\n",
       "        vertical-align: middle;\n",
       "    }\n",
       "\n",
       "    .dataframe tbody tr th {\n",
       "        vertical-align: top;\n",
       "    }\n",
       "\n",
       "    .dataframe thead th {\n",
       "        text-align: right;\n",
       "    }\n",
       "</style>\n",
       "<table border=\"1\" class=\"dataframe\">\n",
       "  <thead>\n",
       "    <tr style=\"text-align: right;\">\n",
       "      <th></th>\n",
       "      <th>name</th>\n",
       "      <th>href</th>\n",
       "      <th>popularity</th>\n",
       "    </tr>\n",
       "  </thead>\n",
       "  <tbody>\n",
       "    <tr>\n",
       "      <th>1</th>\n",
       "      <td>N95</td>\n",
       "      <td>https://api.spotify.com/v1/tracks/0fX4oNGBWO3d...</td>\n",
       "      <td>76</td>\n",
       "    </tr>\n",
       "    <tr>\n",
       "      <th>9</th>\n",
       "      <td>Count Me Out</td>\n",
       "      <td>https://api.spotify.com/v1/tracks/6BU1RZexmvJc...</td>\n",
       "      <td>75</td>\n",
       "    </tr>\n",
       "    <tr>\n",
       "      <th>6</th>\n",
       "      <td>Rich Spirit</td>\n",
       "      <td>https://api.spotify.com/v1/tracks/1QPreu0BNOrU...</td>\n",
       "      <td>74</td>\n",
       "    </tr>\n",
       "    <tr>\n",
       "      <th>0</th>\n",
       "      <td>United In Grief</td>\n",
       "      <td>https://api.spotify.com/v1/tracks/5Gt9bxniM1Sx...</td>\n",
       "      <td>73</td>\n",
       "    </tr>\n",
       "    <tr>\n",
       "      <th>3</th>\n",
       "      <td>Die Hard</td>\n",
       "      <td>https://api.spotify.com/v1/tracks/2g6tReTlM2Ak...</td>\n",
       "      <td>72</td>\n",
       "    </tr>\n",
       "    <tr>\n",
       "      <th>4</th>\n",
       "      <td>Father Time (feat. Sampha)</td>\n",
       "      <td>https://api.spotify.com/v1/tracks/28qA8y1sz0FT...</td>\n",
       "      <td>69</td>\n",
       "    </tr>\n",
       "    <tr>\n",
       "      <th>11</th>\n",
       "      <td>Silent Hill</td>\n",
       "      <td>https://api.spotify.com/v1/tracks/3lzUeaCbcCDB...</td>\n",
       "      <td>66</td>\n",
       "    </tr>\n",
       "    <tr>\n",
       "      <th>13</th>\n",
       "      <td>Savior</td>\n",
       "      <td>https://api.spotify.com/v1/tracks/3drdWsJKiVCS...</td>\n",
       "      <td>64</td>\n",
       "    </tr>\n",
       "    <tr>\n",
       "      <th>8</th>\n",
       "      <td>Purple Hearts</td>\n",
       "      <td>https://api.spotify.com/v1/tracks/1REVvAphiSTJ...</td>\n",
       "      <td>63</td>\n",
       "    </tr>\n",
       "    <tr>\n",
       "      <th>7</th>\n",
       "      <td>We Cry Together</td>\n",
       "      <td>https://api.spotify.com/v1/tracks/67XC51nlZncN...</td>\n",
       "      <td>62</td>\n",
       "    </tr>\n",
       "    <tr>\n",
       "      <th>15</th>\n",
       "      <td>Mr. Morale</td>\n",
       "      <td>https://api.spotify.com/v1/tracks/6CmpZfKUQ2Ke...</td>\n",
       "      <td>62</td>\n",
       "    </tr>\n",
       "    <tr>\n",
       "      <th>17</th>\n",
       "      <td>Mirror</td>\n",
       "      <td>https://api.spotify.com/v1/tracks/5xoYormSTltk...</td>\n",
       "      <td>62</td>\n",
       "    </tr>\n",
       "    <tr>\n",
       "      <th>2</th>\n",
       "      <td>Worldwide Steppers</td>\n",
       "      <td>https://api.spotify.com/v1/tracks/66mVPWmFvXPF...</td>\n",
       "      <td>60</td>\n",
       "    </tr>\n",
       "    <tr>\n",
       "      <th>18</th>\n",
       "      <td>The Heart Part 5</td>\n",
       "      <td>https://api.spotify.com/v1/tracks/5qbhVL3vB7Hw...</td>\n",
       "      <td>60</td>\n",
       "    </tr>\n",
       "    <tr>\n",
       "      <th>10</th>\n",
       "      <td>Crown</td>\n",
       "      <td>https://api.spotify.com/v1/tracks/4zMxWSP2qZUy...</td>\n",
       "      <td>58</td>\n",
       "    </tr>\n",
       "    <tr>\n",
       "      <th>12</th>\n",
       "      <td>Savior - Interlude</td>\n",
       "      <td>https://api.spotify.com/v1/tracks/5G4uLkFKdEZL...</td>\n",
       "      <td>57</td>\n",
       "    </tr>\n",
       "    <tr>\n",
       "      <th>14</th>\n",
       "      <td>Auntie Diaries</td>\n",
       "      <td>https://api.spotify.com/v1/tracks/1uY1X8YeBixs...</td>\n",
       "      <td>57</td>\n",
       "    </tr>\n",
       "    <tr>\n",
       "      <th>16</th>\n",
       "      <td>Mother I Sober (feat. Beth Gibbons of Portishead)</td>\n",
       "      <td>https://api.spotify.com/v1/tracks/346SJSEbB6pN...</td>\n",
       "      <td>57</td>\n",
       "    </tr>\n",
       "    <tr>\n",
       "      <th>5</th>\n",
       "      <td>Rich - Interlude</td>\n",
       "      <td>https://api.spotify.com/v1/tracks/15pyFQHCTVp6...</td>\n",
       "      <td>56</td>\n",
       "    </tr>\n",
       "  </tbody>\n",
       "</table>\n",
       "</div>"
      ],
      "text/plain": [
       "                                                 name  \\\n",
       "1                                                 N95   \n",
       "9                                        Count Me Out   \n",
       "6                                         Rich Spirit   \n",
       "0                                     United In Grief   \n",
       "3                                            Die Hard   \n",
       "4                          Father Time (feat. Sampha)   \n",
       "11                                        Silent Hill   \n",
       "13                                             Savior   \n",
       "8                                       Purple Hearts   \n",
       "7                                     We Cry Together   \n",
       "15                                         Mr. Morale   \n",
       "17                                             Mirror   \n",
       "2                                  Worldwide Steppers   \n",
       "18                                   The Heart Part 5   \n",
       "10                                              Crown   \n",
       "12                                 Savior - Interlude   \n",
       "14                                     Auntie Diaries   \n",
       "16  Mother I Sober (feat. Beth Gibbons of Portishead)   \n",
       "5                                    Rich - Interlude   \n",
       "\n",
       "                                                 href  popularity  \n",
       "1   https://api.spotify.com/v1/tracks/0fX4oNGBWO3d...          76  \n",
       "9   https://api.spotify.com/v1/tracks/6BU1RZexmvJc...          75  \n",
       "6   https://api.spotify.com/v1/tracks/1QPreu0BNOrU...          74  \n",
       "0   https://api.spotify.com/v1/tracks/5Gt9bxniM1Sx...          73  \n",
       "3   https://api.spotify.com/v1/tracks/2g6tReTlM2Ak...          72  \n",
       "4   https://api.spotify.com/v1/tracks/28qA8y1sz0FT...          69  \n",
       "11  https://api.spotify.com/v1/tracks/3lzUeaCbcCDB...          66  \n",
       "13  https://api.spotify.com/v1/tracks/3drdWsJKiVCS...          64  \n",
       "8   https://api.spotify.com/v1/tracks/1REVvAphiSTJ...          63  \n",
       "7   https://api.spotify.com/v1/tracks/67XC51nlZncN...          62  \n",
       "15  https://api.spotify.com/v1/tracks/6CmpZfKUQ2Ke...          62  \n",
       "17  https://api.spotify.com/v1/tracks/5xoYormSTltk...          62  \n",
       "2   https://api.spotify.com/v1/tracks/66mVPWmFvXPF...          60  \n",
       "18  https://api.spotify.com/v1/tracks/5qbhVL3vB7Hw...          60  \n",
       "10  https://api.spotify.com/v1/tracks/4zMxWSP2qZUy...          58  \n",
       "12  https://api.spotify.com/v1/tracks/5G4uLkFKdEZL...          57  \n",
       "14  https://api.spotify.com/v1/tracks/1uY1X8YeBixs...          57  \n",
       "16  https://api.spotify.com/v1/tracks/346SJSEbB6pN...          57  \n",
       "5   https://api.spotify.com/v1/tracks/15pyFQHCTVp6...          56  "
      ]
     },
     "execution_count": 27,
     "metadata": {},
     "output_type": "execute_result"
    }
   ],
   "source": [
    "kendrick_tracks_df = pd.DataFrame(kendrick_track_info['tracks'])\n",
    "kendrick_data = kendrick_tracks_df[[\"name\", \"href\", \"popularity\"]]\n",
    "kendricks_data_df = kendrick_tracks_df[[\"name\", \"href\", \"popularity\"]].sort_values(by=[\"popularity\"], ascending=[False])\n",
    "kendricks_data_df"
   ]
  },
  {
   "cell_type": "markdown",
   "id": "fe9add0e-447c-45e9-b040-2462328b3721",
   "metadata": {},
   "source": [
    "#\n",
    "After wrangling all of the data and trying to get it into a digestible form, I ran into some issues. I would have liked to add on another column, artists. I was having issues using iloc and trying to get the specific artists names with the track titles. This would have been relevant if there was a feature on any of the tracks because that could have added to a songs streaming success. Another issue I have is that just viewing the two charts I created alone is not enough to determine what season would be better to release an album. I feel I needed more information the Spotify API itself could not provide."
   ]
  },
  {
   "cell_type": "markdown",
   "id": "1a75c727-c74a-4eb9-9fe4-eb35929f7c2c",
   "metadata": {},
   "source": [
    "To further support my hypothesis, I figured I would find the overall average popularity for both albums by adding up each individual tracks popularity, dividing that number and finally subtracting that from 100 to give it a final popularity score.\n",
    "\n",
    "Kendrick's album has 16 tracks for a total of 1223 points. Kendrick's final popularity score is 76.\n",
    "Drake's album has 15 total tracks for a total of 1046 points. Drake's final popularity score is 70, rounded up.\n",
    "\n",
    "To conclude my report, I would have done some things differently and incorporated different methods to wrangle or tidy my data. Despite how I feel about it, my hypothesis is somewhat supported by the data I did find. Kendrick's album is more popular than Drake's, but this only supports my hypothesis somewhat because of a few reasons. Kendrick's album has been out longer than Drake's, with Kendrick's album releasing in May of 2022 and Drake's releasing that November. There has been more time for people to be able to stream Kendrick's music. Additionally, there was a \"beef\" between Kendrick and Drake earlier this year. Kendrick seemingly won the feud, so his streaming numbers are likely inflated because of that recent victory. My hypothesis is supported by the data I collected from the Spotify API, with some discrepancies."
   ]
  }
 ],
 "metadata": {
  "kernelspec": {
   "display_name": "Python 3 (ipykernel)",
   "language": "python",
   "name": "python3"
  },
  "language_info": {
   "codemirror_mode": {
    "name": "ipython",
    "version": 3
   },
   "file_extension": ".py",
   "mimetype": "text/x-python",
   "name": "python",
   "nbconvert_exporter": "python",
   "pygments_lexer": "ipython3",
   "version": "3.12.0"
  }
 },
 "nbformat": 4,
 "nbformat_minor": 5
}
