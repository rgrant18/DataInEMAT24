{
 "cells": [
  {
   "cell_type": "markdown",
   "id": "94197e4d-f573-4b23-b52a-4abea6e28a9b",
   "metadata": {},
   "source": [
    "# Likes Report \n",
    "## Chris Grant\n",
    "## 9-13-24\n",
    "\n",
    "The source of the Instagram data being created would be me, the user of that account. The data is created once the interaction with said media is recorded. This data is created to serve the user and Meta. The user would like to go back and see posts they have liked and Meta would like to keep track of that for their own records too. It can serve more purposes for Meta due to profiting off of targeted advertisements. This data may be reliable to the user because they can agree that those actions, whether it is a like or a comment, is really that user. Meta benefits off of this too to see who their most popular accounts are so they can potentially advertise to their users."
   ]
  },
  {
   "cell_type": "code",
   "execution_count": 2,
   "id": "4d42c3ba-11d4-4400-8378-9e5237b0de28",
   "metadata": {},
   "outputs": [],
   "source": [
    "import json\n",
    "import pandas as pd\n",
    "import matplotlib as plt"
   ]
  },
  {
   "cell_type": "code",
   "execution_count": 3,
   "id": "3b4c054f-790f-43ca-a855-83197d100f2d",
   "metadata": {},
   "outputs": [],
   "source": [
    "path = r\"C:\\Users\\chris\\Downloads\\instagram-christophergrantt1-2024-09-12-ima8zG1J\\your_instagram_activity\\likes\\liked_posts.json\"\n",
    "with open(path) as j:\n",
    "    likes = json.load(j)"
   ]
  },
  {
   "cell_type": "code",
   "execution_count": 4,
   "id": "2637cc50-3412-4f99-8803-0673ff2212d8",
   "metadata": {},
   "outputs": [
    {
     "data": {
      "text/plain": [
       "dict_keys(['likes_media_likes'])"
      ]
     },
     "execution_count": 4,
     "metadata": {},
     "output_type": "execute_result"
    }
   ],
   "source": [
    "likes.keys()"
   ]
  },
  {
   "cell_type": "code",
   "execution_count": 46,
   "id": "a35feddb-c84a-4a8b-8313-63f4b31c349e",
   "metadata": {},
   "outputs": [],
   "source": [
    "likes_df = pd.DataFrame(likes['likes_media_likes'])"
   ]
  },
  {
   "cell_type": "code",
   "execution_count": 55,
   "id": "2130d06e-b9ad-4f61-9592-71a693801b2a",
   "metadata": {},
   "outputs": [
    {
     "ename": "KeyError",
     "evalue": "'timestamp'",
     "output_type": "error",
     "traceback": [
      "\u001b[1;31m---------------------------------------------------------------------------\u001b[0m",
      "\u001b[1;31mKeyError\u001b[0m                                  Traceback (most recent call last)",
      "File \u001b[1;32m~\\anaconda3\\envs\\data_fa24\\Lib\\site-packages\\pandas\\core\\indexes\\base.py:3805\u001b[0m, in \u001b[0;36mIndex.get_loc\u001b[1;34m(self, key)\u001b[0m\n\u001b[0;32m   3804\u001b[0m \u001b[38;5;28;01mtry\u001b[39;00m:\n\u001b[1;32m-> 3805\u001b[0m     \u001b[38;5;28;01mreturn\u001b[39;00m \u001b[38;5;28mself\u001b[39m\u001b[38;5;241m.\u001b[39m_engine\u001b[38;5;241m.\u001b[39mget_loc(casted_key)\n\u001b[0;32m   3806\u001b[0m \u001b[38;5;28;01mexcept\u001b[39;00m \u001b[38;5;167;01mKeyError\u001b[39;00m \u001b[38;5;28;01mas\u001b[39;00m err:\n",
      "File \u001b[1;32mindex.pyx:167\u001b[0m, in \u001b[0;36mpandas._libs.index.IndexEngine.get_loc\u001b[1;34m()\u001b[0m\n",
      "File \u001b[1;32mindex.pyx:196\u001b[0m, in \u001b[0;36mpandas._libs.index.IndexEngine.get_loc\u001b[1;34m()\u001b[0m\n",
      "File \u001b[1;32mpandas\\\\_libs\\\\hashtable_class_helper.pxi:7081\u001b[0m, in \u001b[0;36mpandas._libs.hashtable.PyObjectHashTable.get_item\u001b[1;34m()\u001b[0m\n",
      "File \u001b[1;32mpandas\\\\_libs\\\\hashtable_class_helper.pxi:7089\u001b[0m, in \u001b[0;36mpandas._libs.hashtable.PyObjectHashTable.get_item\u001b[1;34m()\u001b[0m\n",
      "\u001b[1;31mKeyError\u001b[0m: 'timestamp'",
      "\nThe above exception was the direct cause of the following exception:\n",
      "\u001b[1;31mKeyError\u001b[0m                                  Traceback (most recent call last)",
      "Cell \u001b[1;32mIn[55], line 1\u001b[0m\n\u001b[1;32m----> 1\u001b[0m likes_df[\u001b[38;5;124m'\u001b[39m\u001b[38;5;124mTime of Like\u001b[39m\u001b[38;5;124m'\u001b[39m] \u001b[38;5;241m=\u001b[39m [x[\u001b[38;5;241m0\u001b[39m][\u001b[38;5;124m'\u001b[39m\u001b[38;5;124mtimestamp\u001b[39m\u001b[38;5;124m'\u001b[39m] \u001b[38;5;28;01mfor\u001b[39;00m x \u001b[38;5;129;01min\u001b[39;00m likes_df[\u001b[38;5;124m'\u001b[39m\u001b[38;5;124mtimestamp\u001b[39m\u001b[38;5;124m'\u001b[39m]]\n",
      "File \u001b[1;32m~\\anaconda3\\envs\\data_fa24\\Lib\\site-packages\\pandas\\core\\frame.py:4102\u001b[0m, in \u001b[0;36mDataFrame.__getitem__\u001b[1;34m(self, key)\u001b[0m\n\u001b[0;32m   4100\u001b[0m \u001b[38;5;28;01mif\u001b[39;00m \u001b[38;5;28mself\u001b[39m\u001b[38;5;241m.\u001b[39mcolumns\u001b[38;5;241m.\u001b[39mnlevels \u001b[38;5;241m>\u001b[39m \u001b[38;5;241m1\u001b[39m:\n\u001b[0;32m   4101\u001b[0m     \u001b[38;5;28;01mreturn\u001b[39;00m \u001b[38;5;28mself\u001b[39m\u001b[38;5;241m.\u001b[39m_getitem_multilevel(key)\n\u001b[1;32m-> 4102\u001b[0m indexer \u001b[38;5;241m=\u001b[39m \u001b[38;5;28mself\u001b[39m\u001b[38;5;241m.\u001b[39mcolumns\u001b[38;5;241m.\u001b[39mget_loc(key)\n\u001b[0;32m   4103\u001b[0m \u001b[38;5;28;01mif\u001b[39;00m is_integer(indexer):\n\u001b[0;32m   4104\u001b[0m     indexer \u001b[38;5;241m=\u001b[39m [indexer]\n",
      "File \u001b[1;32m~\\anaconda3\\envs\\data_fa24\\Lib\\site-packages\\pandas\\core\\indexes\\base.py:3812\u001b[0m, in \u001b[0;36mIndex.get_loc\u001b[1;34m(self, key)\u001b[0m\n\u001b[0;32m   3807\u001b[0m     \u001b[38;5;28;01mif\u001b[39;00m \u001b[38;5;28misinstance\u001b[39m(casted_key, \u001b[38;5;28mslice\u001b[39m) \u001b[38;5;129;01mor\u001b[39;00m (\n\u001b[0;32m   3808\u001b[0m         \u001b[38;5;28misinstance\u001b[39m(casted_key, abc\u001b[38;5;241m.\u001b[39mIterable)\n\u001b[0;32m   3809\u001b[0m         \u001b[38;5;129;01mand\u001b[39;00m \u001b[38;5;28many\u001b[39m(\u001b[38;5;28misinstance\u001b[39m(x, \u001b[38;5;28mslice\u001b[39m) \u001b[38;5;28;01mfor\u001b[39;00m x \u001b[38;5;129;01min\u001b[39;00m casted_key)\n\u001b[0;32m   3810\u001b[0m     ):\n\u001b[0;32m   3811\u001b[0m         \u001b[38;5;28;01mraise\u001b[39;00m InvalidIndexError(key)\n\u001b[1;32m-> 3812\u001b[0m     \u001b[38;5;28;01mraise\u001b[39;00m \u001b[38;5;167;01mKeyError\u001b[39;00m(key) \u001b[38;5;28;01mfrom\u001b[39;00m \u001b[38;5;21;01merr\u001b[39;00m\n\u001b[0;32m   3813\u001b[0m \u001b[38;5;28;01mexcept\u001b[39;00m \u001b[38;5;167;01mTypeError\u001b[39;00m:\n\u001b[0;32m   3814\u001b[0m     \u001b[38;5;66;03m# If we have a listlike key, _check_indexing_error will raise\u001b[39;00m\n\u001b[0;32m   3815\u001b[0m     \u001b[38;5;66;03m#  InvalidIndexError. Otherwise we fall through and re-raise\u001b[39;00m\n\u001b[0;32m   3816\u001b[0m     \u001b[38;5;66;03m#  the TypeError.\u001b[39;00m\n\u001b[0;32m   3817\u001b[0m     \u001b[38;5;28mself\u001b[39m\u001b[38;5;241m.\u001b[39m_check_indexing_error(key)\n",
      "\u001b[1;31mKeyError\u001b[0m: 'timestamp'"
     ]
    }
   ],
   "source": [
    "likes_df['Time of Like'] = [x[0]['timestamp'] for x in likes_df['timestamp']]"
   ]
  },
  {
   "cell_type": "markdown",
   "id": "ddd9271b-0bce-4eab-8f41-8e087f808284",
   "metadata": {},
   "source": [
    "I am unsure how to correct the error above. I tried multiple things to incorporate the timestamp, but could not get it to produce the true value. "
   ]
  },
  {
   "cell_type": "code",
   "execution_count": 54,
   "id": "d231ba5d-3265-48f5-b023-f35b8703fa22",
   "metadata": {},
   "outputs": [
    {
     "data": {
      "text/html": [
       "<div>\n",
       "<style scoped>\n",
       "    .dataframe tbody tr th:only-of-type {\n",
       "        vertical-align: middle;\n",
       "    }\n",
       "\n",
       "    .dataframe tbody tr th {\n",
       "        vertical-align: top;\n",
       "    }\n",
       "\n",
       "    .dataframe thead th {\n",
       "        text-align: right;\n",
       "    }\n",
       "</style>\n",
       "<table border=\"1\" class=\"dataframe\">\n",
       "  <thead>\n",
       "    <tr style=\"text-align: right;\">\n",
       "      <th></th>\n",
       "      <th>string_list_data</th>\n",
       "      <th>Time of Like</th>\n",
       "    </tr>\n",
       "    <tr>\n",
       "      <th>title</th>\n",
       "      <th></th>\n",
       "      <th></th>\n",
       "    </tr>\n",
       "  </thead>\n",
       "  <tbody>\n",
       "    <tr>\n",
       "      <th>onlineceramics</th>\n",
       "      <td>15</td>\n",
       "      <td>15</td>\n",
       "    </tr>\n",
       "    <tr>\n",
       "      <th>bringatrailer</th>\n",
       "      <td>13</td>\n",
       "      <td>13</td>\n",
       "    </tr>\n",
       "    <tr>\n",
       "      <th>mansory</th>\n",
       "      <td>10</td>\n",
       "      <td>10</td>\n",
       "    </tr>\n",
       "    <tr>\n",
       "      <th>motor1com</th>\n",
       "      <td>10</td>\n",
       "      <td>10</td>\n",
       "    </tr>\n",
       "    <tr>\n",
       "      <th>nojumper</th>\n",
       "      <td>10</td>\n",
       "      <td>10</td>\n",
       "    </tr>\n",
       "    <tr>\n",
       "      <th>notmushu</th>\n",
       "      <td>10</td>\n",
       "      <td>10</td>\n",
       "    </tr>\n",
       "    <tr>\n",
       "      <th>mcfriendy</th>\n",
       "      <td>9</td>\n",
       "      <td>9</td>\n",
       "    </tr>\n",
       "    <tr>\n",
       "      <th>hypedrive</th>\n",
       "      <td>9</td>\n",
       "      <td>9</td>\n",
       "    </tr>\n",
       "    <tr>\n",
       "      <th>swissaround</th>\n",
       "      <td>9</td>\n",
       "      <td>9</td>\n",
       "    </tr>\n",
       "    <tr>\n",
       "      <th>chieffkeeffsossa</th>\n",
       "      <td>9</td>\n",
       "      <td>9</td>\n",
       "    </tr>\n",
       "  </tbody>\n",
       "</table>\n",
       "</div>"
      ],
      "text/plain": [
       "                  string_list_data  Time of Like\n",
       "title                                           \n",
       "onlineceramics                  15            15\n",
       "bringatrailer                   13            13\n",
       "mansory                         10            10\n",
       "motor1com                       10            10\n",
       "nojumper                        10            10\n",
       "notmushu                        10            10\n",
       "mcfriendy                        9             9\n",
       "hypedrive                        9             9\n",
       "swissaround                      9             9\n",
       "chieffkeeffsossa                 9             9"
      ]
     },
     "execution_count": 54,
     "metadata": {},
     "output_type": "execute_result"
    }
   ],
   "source": [
    "likes_df.groupby('title').count().sort_values('string_list_data', ascending = False).head(10)"
   ]
  },
  {
   "cell_type": "markdown",
   "id": "5860ad14-2226-42a2-8aa1-2c6991da7002",
   "metadata": {},
   "source": [
    "A hypothesis I have about this data is that my liked posts will have the same accounts (or similar types) as some of my shared posts. The theoretical elements of this hypothesis are the idea that saving a post and liking a post are a similar interaction. In the head of a Meta developer, a post being saved by a user would indicate a strong like for the post. Theoretically, there would be similar posts both liked and saved by me. The statistical element of my hypothesis is that I am aware I do not use the save feature on Instagram very often. It is more likely for my hypothesis to be correct based on how small the sample size of my saved posts will be."
   ]
  },
  {
   "cell_type": "code",
   "execution_count": 56,
   "id": "2ddcb734-014d-42c1-a6b3-b5bff5579828",
   "metadata": {},
   "outputs": [],
   "source": [
    "path = r\"C:\\Users\\chris\\Downloads\\instagram-christophergrantt1-2024-09-13-UTpCIzIf\\your_instagram_activity\\saved\\saved_posts.json\"\n",
    "with open(path) as j:\n",
    "    saved = json.load(j)"
   ]
  },
  {
   "cell_type": "code",
   "execution_count": 58,
   "id": "f6c04317-bccf-4603-a22a-3d3b55d7482c",
   "metadata": {},
   "outputs": [
    {
     "data": {
      "text/plain": [
       "dict_keys(['saved_saved_media'])"
      ]
     },
     "execution_count": 58,
     "metadata": {},
     "output_type": "execute_result"
    }
   ],
   "source": [
    "saved.keys()"
   ]
  },
  {
   "cell_type": "code",
   "execution_count": 75,
   "id": "a7810913-b619-4aad-8e97-c8081d17a39a",
   "metadata": {},
   "outputs": [
    {
     "data": {
      "text/plain": [
       "[{'title': 'mansory',\n",
       "  'string_map_data': {'Saved on': {'href': 'https://www.instagram.com/p/Cv7VPz0o6HU/',\n",
       "    'timestamp': 1696521589}}},\n",
       " {'title': 'mansory',\n",
       "  'string_map_data': {'Saved on': {'href': 'https://www.instagram.com/p/CxSurm_JQMa/',\n",
       "    'timestamp': 1696521526}}}]"
      ]
     },
     "execution_count": 75,
     "metadata": {},
     "output_type": "execute_result"
    }
   ],
   "source": [
    "saved['saved_saved_media']"
   ]
  },
  {
   "cell_type": "code",
   "execution_count": null,
   "id": "2326a977-33ca-44da-a89e-81a828f023df",
   "metadata": {},
   "outputs": [],
   "source": [
    "likes_df = pd.DataFrame(likes['likes_media_likes'])"
   ]
  },
  {
   "cell_type": "code",
   "execution_count": 77,
   "id": "01585641-fff3-4a6a-8a7f-6fd49a6b7bcb",
   "metadata": {},
   "outputs": [],
   "source": [
    "saved_df = pd.DataFrame(saved['saved_saved_media'])"
   ]
  },
  {
   "cell_type": "code",
   "execution_count": 78,
   "id": "2a9f3154-c3ff-46fa-8c64-f8a4cb959934",
   "metadata": {},
   "outputs": [
    {
     "data": {
      "text/html": [
       "<div>\n",
       "<style scoped>\n",
       "    .dataframe tbody tr th:only-of-type {\n",
       "        vertical-align: middle;\n",
       "    }\n",
       "\n",
       "    .dataframe tbody tr th {\n",
       "        vertical-align: top;\n",
       "    }\n",
       "\n",
       "    .dataframe thead th {\n",
       "        text-align: right;\n",
       "    }\n",
       "</style>\n",
       "<table border=\"1\" class=\"dataframe\">\n",
       "  <thead>\n",
       "    <tr style=\"text-align: right;\">\n",
       "      <th></th>\n",
       "      <th>title</th>\n",
       "      <th>string_map_data</th>\n",
       "    </tr>\n",
       "  </thead>\n",
       "  <tbody>\n",
       "    <tr>\n",
       "      <th>0</th>\n",
       "      <td>mansory</td>\n",
       "      <td>{'Saved on': {'href': 'https://www.instagram.c...</td>\n",
       "    </tr>\n",
       "    <tr>\n",
       "      <th>1</th>\n",
       "      <td>mansory</td>\n",
       "      <td>{'Saved on': {'href': 'https://www.instagram.c...</td>\n",
       "    </tr>\n",
       "  </tbody>\n",
       "</table>\n",
       "</div>"
      ],
      "text/plain": [
       "     title                                    string_map_data\n",
       "0  mansory  {'Saved on': {'href': 'https://www.instagram.c...\n",
       "1  mansory  {'Saved on': {'href': 'https://www.instagram.c..."
      ]
     },
     "execution_count": 78,
     "metadata": {},
     "output_type": "execute_result"
    }
   ],
   "source": [
    "saved_df"
   ]
  },
  {
   "cell_type": "markdown",
   "id": "84717b06-fdfd-49e4-8cd0-a1c40e6f8dec",
   "metadata": {},
   "source": [
    "I ran into another issue with my project / files. I double-checked my Instagram account, and I have way more saved posts than are listed in the JSON file. This would have made this dataframe look more tidy and provide a better sample. I originally was not sure why this was, but I realized the Instagram JSON only downloads the past YEAR of interactions :/. This makes a lot of sense considering they are storing all of that information for years on end, but I did not realize that until I double-checked my Meta account center. Despite that, this dataframe shows that my hypothesis is accurate because the account \"mansory\" is the third most liked in the past year, and it is the only available account found in my saved posts."
   ]
  },
  {
   "cell_type": "code",
   "execution_count": null,
   "id": "7f0d2d65-8c36-429a-8583-ac3d4e09f93f",
   "metadata": {},
   "outputs": [],
   "source": []
  }
 ],
 "metadata": {
  "kernelspec": {
   "display_name": "Python 3 (ipykernel)",
   "language": "python",
   "name": "python3"
  },
  "language_info": {
   "codemirror_mode": {
    "name": "ipython",
    "version": 3
   },
   "file_extension": ".py",
   "mimetype": "text/x-python",
   "name": "python",
   "nbconvert_exporter": "python",
   "pygments_lexer": "ipython3",
   "version": "3.12.0"
  }
 },
 "nbformat": 4,
 "nbformat_minor": 5
}
