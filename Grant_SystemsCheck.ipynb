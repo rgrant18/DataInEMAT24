{
 "cells": [
  {
   "cell_type": "markdown",
   "id": "8b86303d-7932-46b1-9629-67d7b3fc6d61",
   "metadata": {},
   "source": [
    "# Systems Check\n",
    "## Chris Grant\n",
    "## 8/22/2024\n",
    "\n",
    "In this class I want to learn more about __Python__ syntax as well as learn how to use tools to manipulate __data__ more efficiently.\n",
    "\n",
    "- Below is one of my favorite Pokemon, Ditto.\n",
    "- He is normal type.\n",
    "- He transforms into other Pokemon.\n",
    "\n",
    " ![ditto](https://api.win.gg/wp-content/uploads/2021/12/pokemon-ditto.jpg)"
   ]
  },
  {
   "cell_type": "markdown",
   "id": "1f9789ec-ed8d-492a-8466-66b3bb7c71cc",
   "metadata": {},
   "source": []
  },
  {
   "cell_type": "code",
   "execution_count": null,
   "id": "bd90955d-dc02-45d1-97a5-bd8a00649ca6",
   "metadata": {},
   "outputs": [],
   "source": []
  }
 ],
 "metadata": {
  "kernelspec": {
   "display_name": "Python 3 (ipykernel)",
   "language": "python",
   "name": "python3"
  },
  "language_info": {
   "codemirror_mode": {
    "name": "ipython",
    "version": 3
   },
   "file_extension": ".py",
   "mimetype": "text/x-python",
   "name": "python",
   "nbconvert_exporter": "python",
   "pygments_lexer": "ipython3",
   "version": "3.12.4"
  }
 },
 "nbformat": 4,
 "nbformat_minor": 5
}
